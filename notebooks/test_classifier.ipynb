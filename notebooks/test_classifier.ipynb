{
 "cells": [
  {
   "cell_type": "markdown",
   "metadata": {},
   "source": [
    "# Test DINOv2 to classifier image\n",
    "---\n",
    "\n",
    "Steps :\n",
    "- Preprocessing Image:\n",
    "    - load image \n",
    "    - ensure images folder\n",
    "    - transform image\n",
    "- load pretrained DINOv2 model \n",
    "- modify the model for classification\n",
    "- define Loss function and Optimizer\n",
    "- train model\n",
    "- evaluation utils \n",
    "- save model \n",
    "- reload - use the model for prediction \n",
    "\n"
   ]
  },
  {
   "cell_type": "code",
   "execution_count": null,
   "metadata": {},
   "outputs": [],
   "source": [
    "import os\n",
    "import pandas as pd\n",
    "import torch\n",
    "import torch.nn as nn\n",
    "import torchvision\n",
    "import numpy as np\n",
    "from collections import OrderedDict"
   ]
  },
  {
   "cell_type": "markdown",
   "metadata": {},
   "source": [
    "## Preprocessing Image"
   ]
  },
  {
   "cell_type": "code",
   "execution_count": 41,
   "metadata": {},
   "outputs": [
    {
     "name": "stdout",
     "output_type": "stream",
     "text": [
      "{'dandelion': 0, 'grass': 1}\n"
     ]
    }
   ],
   "source": [
    "import torchvision.transforms as transforms\n",
    "from torchvision.datasets import ImageFolder\n",
    "from torch.utils.data import DataLoader\n",
    "\n",
    "# Transformations pour prétraitement des images\n",
    "transform = transforms.Compose([\n",
    "    transforms.Resize((224, 224)),\n",
    "    transforms.ToTensor(),\n",
    "    transforms.Normalize(mean=[0.485, 0.485, 0.406], std=[0.229, 0.224, 0.225])\n",
    "])\n",
    "\n",
    "# load dataset\n",
    "root_train = '/Users/phuongnguyen/Documents/cours_BGD_Telecom_Paris_2024/712_MLOps/dataset_project/train/'\n",
    "root_val = '/Users/phuongnguyen/Documents/cours_BGD_Telecom_Paris_2024/712_MLOps/dataset_project/val/'\n",
    "train_data = ImageFolder(root=root_train, transform=transform)\n",
    "val_data = ImageFolder(root=root_val, transform=transform)\n",
    "\n",
    "\n",
    "# create Data loaders for batch training\n",
    "train_loader = DataLoader(train_data, batch_size=32, shuffle=True)\n",
    "val_loader = DataLoader(val_data, batch_size=32, shuffle=False)\n",
    "\n",
    "\n",
    "# Check class mappings\n",
    "print(train_data.class_to_idx)"
   ]
  },
  {
   "cell_type": "markdown",
   "metadata": {},
   "source": [
    "## Load pretrained model"
   ]
  },
  {
   "cell_type": "code",
   "execution_count": 42,
   "metadata": {},
   "outputs": [
    {
     "name": "stderr",
     "output_type": "stream",
     "text": [
      "Using cache found in /Users/phuongnguyen/.cache/torch/hub/facebookresearch_dinov2_main\n"
     ]
    }
   ],
   "source": [
    "# set device to cuda if available\n",
    "device = torch.device(\"cuda\" if torch.cuda.is_available() else \"cpu\")\n",
    "\n",
    "# load the DINOv2 classifier pretrained model from Facebook Research\n",
    "# classifier_pretrained = torch.hub.load(\"facebookresearch/dinov2\", \"dinov2_vits14_lc\")\n",
    "dino_backbone = torch.hub.load(\"facebookresearch/dinov2\", \"dinov2_vits14\")\n",
    "\n",
    "# freeze the model parameters except the classification head\n",
    "for param in dino_backbone.parameters():\n",
    "    param.requires_grad = False\n"
   ]
  },
  {
   "cell_type": "markdown",
   "metadata": {},
   "source": [
    "## Modify the pretrained model for Classification"
   ]
  },
  {
   "cell_type": "code",
   "execution_count": null,
   "metadata": {},
   "outputs": [],
   "source": [
    "import torch.nn as nn\n",
    "\n",
    "# check number of features in the model on https://github.com/facebookresearch/dinov2/blob/main/MODEL_CARD.md\n",
    "num_features_dinov2 = 384 # small\n",
    "classifier_pretrained.linear_head = nn.Linear(in_features=num_features_dinov2,\n",
    "                                       out_features=2 ) # 2 classes = dandelion & grass\n",
    "model = classifier_pretrained.to(device)\n",
    "results = OrderedDict() # to store results"
   ]
  },
  {
   "cell_type": "code",
   "execution_count": 98,
   "metadata": {},
   "outputs": [],
   "source": [
    "\n",
    "class DinoClassifier(nn.Module):\n",
    "    def __init__(self, backbone, num_classes):\n",
    "        super().__init__()\n",
    "        self.backbone = backbone\n",
    "        self.head = nn.Linear(backbone.embed_dim, num_classes) # check out_feature cua dinov2\n",
    "\n",
    "    def forward(self, x):\n",
    "        with torch.no_grad():\n",
    "            x = self.backbone(x)\n",
    "        x = self.head(x)\n",
    "        return x\n"
   ]
  },
  {
   "cell_type": "markdown",
   "metadata": {},
   "source": [
    "## Define Loss function & Optimizer"
   ]
  },
  {
   "cell_type": "code",
   "execution_count": 99,
   "metadata": {},
   "outputs": [],
   "source": [
    "from torch import optim\n",
    "criteron = nn.CrossEntropyLoss()\n",
    "model = DinoClassifier(dino_backbone, num_classes=2).to(device)\n",
    "lr = 0.003\n",
    "optimizer = optim.Adam(params=model.head.parameters(),\n",
    "                       lr=lr)\n"
   ]
  },
  {
   "cell_type": "markdown",
   "metadata": {},
   "source": [
    "## Train the model"
   ]
  },
  {
   "cell_type": "code",
   "execution_count": 100,
   "metadata": {},
   "outputs": [
    {
     "name": "stdout",
     "output_type": "stream",
     "text": [
      "Learning rate : 0.003 - Epoche 0 : Loss = 3.6285833716392517, Accuracy = 57.0\n",
      "Learning rate : 0.003 - Epoche 1 : Loss = 0.4326205588877201, Accuracy = 93.0\n",
      "Learning rate : 0.003 - Epoche 2 : Loss = 0.22261006943881512, Accuracy = 98.0\n",
      "Learning rate : 0.003 - Epoche 3 : Loss = 0.134904730872222, Accuracy = 98.0\n",
      "Learning rate : 0.003 - Epoche 4 : Loss = 0.08162533678114414, Accuracy = 99.0\n",
      "Learning rate : 0.003 - Epoche 5 : Loss = 0.04435499815735966, Accuracy = 99.0\n",
      "Learning rate : 0.003 - Epoche 6 : Loss = 0.021888565848257713, Accuracy = 100.0\n",
      "Learning rate : 0.003 - Epoche 7 : Loss = 0.011369328303771908, Accuracy = 100.0\n",
      "Learning rate : 0.003 - Epoche 8 : Loss = 0.00908758188597858, Accuracy = 100.0\n",
      "Learning rate : 0.003 - Epoche 9 : Loss = 0.00780530134215951, Accuracy = 100.0\n"
     ]
    }
   ],
   "source": [
    "num_epochs = 10\n",
    "\n",
    "# for lr in lrs:\n",
    "#     optimizer = optim.Adam(params=model.head.parameters(),\n",
    "#                        lr=lr)\n",
    "results[f'{lr}'] = {'train_acc': [], 'train_loss': [], 'val_acc': []}\n",
    "for epoch in range(num_epochs):\n",
    "    model.train()\n",
    "    total_loss, correct = 0, 0\n",
    "    for images, labels in train_loader:\n",
    "        images, labels = images.to(device, non_blocking=True), labels.to(device, non_blocking=True)\n",
    "\n",
    "        optimizer.zero_grad()\n",
    "        outputs = model(images)\n",
    "        loss = criteron(outputs, labels)\n",
    "        loss.backward()\n",
    "        optimizer.step()\n",
    "\n",
    "        total_loss += loss.item()\n",
    "        correct += (outputs.argmax(dim=1) == labels).sum().item() # .item() to get the value of the tensor\n",
    "\n",
    "    train_acc = 100 * correct / len(train_data)\n",
    "    print(f\"Learning rate : {lr} - Epoche {epoch} : Loss = {total_loss}, Accuracy = {train_acc}\")\n",
    "    results[f'{lr}']['train_acc'].append(train_acc)\n",
    "    results[f'{lr}']['train_loss'].append(total_loss)\n"
   ]
  },
  {
   "cell_type": "markdown",
   "metadata": {},
   "source": [
    "## Evaluate the model"
   ]
  },
  {
   "cell_type": "code",
   "execution_count": 101,
   "metadata": {},
   "outputs": [
    {
     "name": "stdout",
     "output_type": "stream",
     "text": [
      "Validation Accuracy = 97.62%\n"
     ]
    }
   ],
   "source": [
    "model.eval()\n",
    "val_correct = 0\n",
    "val_total = 0\n",
    "with torch.no_grad():\n",
    "    for images, labels in val_loader:\n",
    "        images, labels = images.to(device), labels.to(device)\n",
    "        outputs = model(images)\n",
    "        predicted = outputs.argmax(dim=1)\n",
    "\n",
    "        val_correct += (predicted == labels).sum().item()\n",
    "        val_total += labels.size(0)\n",
    "\n",
    "    val_acc = 100 * val_correct / val_total\n",
    "    print(f\"Validation Accuracy = {val_acc:.2f}%\")\n",
    "    results[f'{lr}']['val_acc'].append(val_acc)\n"
   ]
  },
  {
   "cell_type": "code",
   "execution_count": 102,
   "metadata": {},
   "outputs": [
    {
     "data": {
      "text/plain": [
       "OrderedDict([('0.003',\n",
       "              {'train_acc': [57.0,\n",
       "                93.0,\n",
       "                98.0,\n",
       "                98.0,\n",
       "                99.0,\n",
       "                99.0,\n",
       "                100.0,\n",
       "                100.0,\n",
       "                100.0,\n",
       "                100.0],\n",
       "               'train_loss': [3.6285833716392517,\n",
       "                0.4326205588877201,\n",
       "                0.22261006943881512,\n",
       "                0.134904730872222,\n",
       "                0.08162533678114414,\n",
       "                0.04435499815735966,\n",
       "                0.021888565848257713,\n",
       "                0.011369328303771908,\n",
       "                0.00908758188597858,\n",
       "                0.00780530134215951],\n",
       "               'val_acc': [97.61904761904762]}),\n",
       "             ('0.001',\n",
       "              {'train_acc': [73.0,\n",
       "                95.0,\n",
       "                97.0,\n",
       "                97.0,\n",
       "                97.0,\n",
       "                98.0,\n",
       "                99.0,\n",
       "                100.0,\n",
       "                100.0,\n",
       "                100.0],\n",
       "               'train_loss': [2.0055153369903564,\n",
       "                0.5977304838597775,\n",
       "                0.32658164389431477,\n",
       "                0.35732797160744667,\n",
       "                0.18408513721078634,\n",
       "                0.12946405541151762,\n",
       "                0.08365330309607089,\n",
       "                0.06329613889101893,\n",
       "                0.05487319780513644,\n",
       "                0.04185032728128135],\n",
       "               'val_acc': [97.61904761904762]}),\n",
       "             ('0.007',\n",
       "              {'train_acc': [79.0,\n",
       "                100.0,\n",
       "                100.0,\n",
       "                100.0,\n",
       "                100.0,\n",
       "                100.0,\n",
       "                100.0,\n",
       "                100.0,\n",
       "                100.0,\n",
       "                100.0],\n",
       "               'train_loss': [1.0434395340271294,\n",
       "                0.03012497106101364,\n",
       "                0.0036245570081518963,\n",
       "                0.001440053958503995,\n",
       "                0.001438885708921589,\n",
       "                0.00314486823185689,\n",
       "                0.0005260768743919897,\n",
       "                0.00034324483931236216,\n",
       "                0.000285174520399778,\n",
       "                0.00023703825354459696],\n",
       "               'val_acc': [97.61904761904762]})])"
      ]
     },
     "execution_count": 102,
     "metadata": {},
     "output_type": "execute_result"
    }
   ],
   "source": [
    "results"
   ]
  },
  {
   "cell_type": "code",
   "execution_count": 97,
   "metadata": {},
   "outputs": [
    {
     "data": {
      "image/png": "[encoded data removed]",
      "text/plain": [
       "<Figure size 640x480 with 1 Axes>"
      ]
     },
     "metadata": {},
     "output_type": "display_data"
    },
    {
     "name": "stdout",
     "output_type": "stream",
     "text": [
      "[0.003, 0.001, 0.007] [97.61904761904762, 97.61904761904762, 97.61904761904762]\n"
     ]
    }
   ],
   "source": [
    "# plot\n",
    "import matplotlib.pyplot as plt\n",
    "plt.figure()\n",
    "plt.title(\"Train Accuracy\")\n",
    "plt.xlabel(\"Epochs\")\n",
    "plt.ylabel(\"Accuracy\")\n",
    "for lr, result in results.items():\n",
    "    plt.plot(result['train_acc'], label=f\"Train Accuracy - lr={lr}\")\n",
    "plt.legend()\n",
    "plt.show()\n",
    "\n",
    "print([float(lr) for lr in results.keys()], [result['val_acc'][-1] for result in results.values()])\n",
    "# plt.figure()\n",
    "# plt.title(\"Validation Accuracy\")\n",
    "# plt.xlabel(\"Learning Rate\")\n",
    "# plt.ylabel(\"Accuracy\")\n",
    "# plt.plot([float(lr) for lr in results.keys()], [result['val_acc'][-1] for result in results.values()])\n"
   ]
  },
  {
   "cell_type": "markdown",
   "metadata": {},
   "source": [
    "## Save the model"
   ]
  },
  {
   "cell_type": "code",
   "execution_count": 103,
   "metadata": {},
   "outputs": [],
   "source": [
    "torch.save(model.state_dict(), 'dinov2_classifier.pth')"
   ]
  },
  {
   "cell_type": "markdown",
   "metadata": {},
   "source": [
    "## Prediction test dataset"
   ]
  },
  {
   "cell_type": "code",
   "execution_count": null,
   "metadata": {},
   "outputs": [
    {
     "name": "stderr",
     "output_type": "stream",
     "text": [
      "/var/folders/q0/_kslfxpx2254x8gnh887x3zc0000gn/T/ipykernel_2733/2869583502.py:3: FutureWarning: You are using `torch.load` with `weights_only=False` (the current default value), which uses the default pickle module implicitly. It is possible to construct malicious pickle data which will execute arbitrary code during unpickling (See https://github.com/pytorch/pytorch/blob/main/SECURITY.md#untrusted-models for more details). In a future release, the default value for `weights_only` will be flipped to `True`. This limits the functions that could be executed during unpickling. Arbitrary objects will no longer be allowed to be loaded via this mode unless they are explicitly allowlisted by the user via `torch.serialization.add_safe_globals`. We recommend you start setting `weights_only=True` for any use case where you don't have full control of the loaded file. Please open an issue on GitHub for any issues related to this experimental feature.\n",
      "  model.load_state_dict(torch.load(\"dinov2_classifier.pth\"))\n"
     ]
    },
    {
     "name": "stdout",
     "output_type": "stream",
     "text": [
      "Predicted Class: dandelion\n"
     ]
    }
   ],
   "source": [
    "# Load model\n",
    "\n",
    "model.load_state_dict(torch.load(\"dinov2_classifier.pth\"))\n",
    "model.eval()\n"
   ]
  },
  {
   "cell_type": "code",
   "execution_count": 112,
   "metadata": {},
   "outputs": [
    {
     "name": "stdout",
     "output_type": "stream",
     "text": [
      "Predicted Class: grass\n",
      "Predicted Class: grass\n",
      "Predicted Class: grass\n",
      "Predicted Class: grass\n",
      "Predicted Class: grass\n",
      "Predicted Class: grass\n",
      "Predicted Class: grass\n",
      "Predicted Class: grass\n",
      "Predicted Class: grass\n",
      "Predicted Class: grass\n"
     ]
    }
   ],
   "source": [
    "\n",
    "# Predict on a single image\n",
    "from PIL import Image\n",
    "for i in range(90, 100):\n",
    "    image = Image.open(f\"/Users/phuongnguyen/Documents/cours_BGD_Telecom_Paris_2024/712_MLOps/dataset_project/test/grass/000000{i}.jpg\")\n",
    "    image = transform(image).unsqueeze(0).to(device)\n",
    "\n",
    "    output = model(image)\n",
    "    predicted_class = output.argmax(dim=1).item()\n",
    "\n",
    "    class_names = [\"dandelion\", \"grass\"]\n",
    "    print(f\"Predicted Class: {class_names[predicted_class]}\")"
   ]
  },
  {
   "cell_type": "code",
   "execution_count": null,
   "metadata": {},
   "outputs": [],
   "source": []
  },
  {
   "cell_type": "code",
   "execution_count": null,
   "metadata": {},
   "outputs": [],
   "source": [
    "import boto3\n",
    "from boto3.session import Session\n",
    "\n",
    "s3 = boto3.client(\n",
    "    's3',\n",
    "    aws_access_key_id=os.getenv('AWS_ACCESS_KEY_ID'),\n",
    "    aws_secret_access_key=os.getenv('AWS_SECRET_ACCESS_KEY')\n",
    ")\n",
    "# for train data\n",
    "for i in range(0,50):\n",
    "    if i < 10:\n",
    "        s3.download_file('image-dadelion-grass', 'dandelion/0000000'+str(i)+'.jpg', '/Users/phuongnguyen/Documents/cours_BGD_Telecom_Paris_2024/712_MLOps/dataset_project/train/dandelion/0000000'+str(i)+'.jpg')\n",
    "    else:\n",
    "        s3.download_file('image-dadelion-grass', 'dandelion/000000'+str(i)+'.jpg', '/Users/phuongnguyen/Documents/cours_BGD_Telecom_Paris_2024/712_MLOps/dataset_project/train/dandelion/000000'+str(i)+'.jpg')\n",
    "# s3.download_file('image-dadelion-grass', 'dandelion/00000047.jpg', '/Users/phuongnguyen/Documents/cours_BGD_Telecom_Paris_2024/712_MLOps/dataset_project/train/00000047.jpg')\n"
   ]
  }
 ],
 "metadata": {
  "kernelspec": {
   "display_name": "python_env",
   "language": "python",
   "name": "python3"
  },
  "language_info": {
   "codemirror_mode": {
    "name": "ipython",
    "version": 3
   },
   "file_extension": ".py",
   "mimetype": "text/x-python",
   "name": "python",
   "nbconvert_exporter": "python",
   "pygments_lexer": "ipython3",
   "version": "3.10.14"
  }
 },
 "nbformat": 4,
 "nbformat_minor": 2
}
